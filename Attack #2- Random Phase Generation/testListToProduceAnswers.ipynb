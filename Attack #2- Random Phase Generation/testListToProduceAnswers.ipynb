{
 "cells": [
  {
   "cell_type": "code",
   "execution_count": 28,
   "metadata": {},
   "outputs": [],
   "source": [
    "import speech_recognition as sr\n",
    "from os import path\n",
    "import os.path\n",
    "import operator\n",
    "from os import system\n",
    "from os import listdir\n",
    "from os.path import isfile, join\n",
    "import wave\n",
    "import scipy as sc\n",
    "import librosa\n",
    "import IPython.display as ipd\n",
    "import numpy as np\n",
    "from PIL import Image\n",
    "import matplotlib.pyplot as plt\n",
    "import matplotlib\n",
    "import numpy as np\n",
    "%matplotlib inline\n",
    "import math\n",
    "import librosa as lb\n",
    "import scipy\n",
    "from sklearn.decomposition import PCA\n",
    "import pandas as pd\n",
    "from os import listdir\n",
    "from os.path import isfile, join\n",
    "import time\n",
    "from itertools import product\n",
    "import datetime\n",
    "import sys"
   ]
  },
  {
   "cell_type": "code",
   "execution_count": 67,
   "metadata": {},
   "outputs": [
    {
     "name": "stdout",
     "output_type": "stream",
     "text": [
      "216960\n"
     ]
    }
   ],
   "source": [
    "fs, data = scipy.io.wavfile.read(r\"C:\\Users\\hamza\\OneDrive\\Desktop\\ResearchML\\AudioFiles\\helloAudio.wav\")\n",
    "print(len(data))"
   ]
  },
  {
   "cell_type": "code",
   "execution_count": 68,
   "metadata": {},
   "outputs": [
    {
     "name": "stdout",
     "output_type": "stream",
     "text": [
      "[(3+4j)]\n"
     ]
    }
   ],
   "source": [
    "h = [3+4j]\n",
    "print(h)"
   ]
  },
  {
   "cell_type": "code",
   "execution_count": 69,
   "metadata": {},
   "outputs": [],
   "source": [
    "#Squares both the phase signals and adds them together\n",
    "def getMagnitude(a):\n",
    "    x = np.abs(a)\n",
    "    return x"
   ]
  },
  {
   "cell_type": "code",
   "execution_count": 72,
   "metadata": {},
   "outputs": [
    {
     "name": "stdout",
     "output_type": "stream",
     "text": [
      "This is the magnitude of the signal:  [5.]\n",
      "\n",
      "This is the signal sum:  25.0 \n",
      "\n"
     ]
    }
   ],
   "source": [
    "print(\"This is the magnitude of the signal: \",getMagnitude(h))\n",
    "\n",
    "magnitudeNum = getMagnitude(h)\n",
    "\n",
    "signalSum = np.power(np.abs(3+4j), 2)\n",
    "\n",
    "print(\"\\nThis is the signal sum: \",signalSum, \"\\n\")\n"
   ]
  },
  {
   "cell_type": "code",
   "execution_count": 64,
   "metadata": {},
   "outputs": [],
   "source": [
    "def sum_to_n(n, size, limit=None):\n",
    "    \"\"\"Produce all lists of `size` positive integers in decreasing order\n",
    "    that add up to `n`.\"\"\"\n",
    "    if size == 1:\n",
    "        yield [n]\n",
    "        #list.append([n])\n",
    "        return\n",
    "    if limit is None:\n",
    "        limit = n\n",
    "    start = (n + size - 1) // size\n",
    "    stop = np.abs(complex(min(limit, n - size + 1) + 1))\n",
    "    for i in np.arange(start, stop):\n",
    "        for tail in sum_to_n(n - i, size - 1, i):\n",
    "            yield np.sqrt([i] + tail)\n",
    "            #list.append(np.sqrt([i] + tail))"
   ]
  },
  {
   "cell_type": "code",
   "execution_count": 77,
   "metadata": {},
   "outputs": [],
   "source": [
    "#Create a new empty list to store the answers\n",
    "listAns = []\n",
    "result = []"
   ]
  },
  {
   "cell_type": "code",
   "execution_count": 73,
   "metadata": {},
   "outputs": [],
   "source": [
    "for x in sum_to_n(signalSum, 2):\n",
    "    #add the result to a list\n",
    "    result.append(x)\n",
    "    #print(x)\n",
    "    "
   ]
  },
  {
   "cell_type": "code",
   "execution_count": 74,
   "metadata": {},
   "outputs": [
    {
     "data": {
      "text/plain": [
       "list"
      ]
     },
     "execution_count": 74,
     "metadata": {},
     "output_type": "execute_result"
    }
   ],
   "source": [
    "type(result)"
   ]
  },
  {
   "cell_type": "code",
   "execution_count": 75,
   "metadata": {},
   "outputs": [],
   "source": [
    "data = np.asarray(result)\n"
   ]
  },
  {
   "cell_type": "code",
   "execution_count": 76,
   "metadata": {},
   "outputs": [
    {
     "data": {
      "text/plain": [
       "array([[3.60555128, 3.46410162],\n",
       "       [3.74165739, 3.31662479],\n",
       "       [3.87298335, 3.16227766],\n",
       "       [4.        , 3.        ],\n",
       "       [4.12310563, 2.82842712],\n",
       "       [4.24264069, 2.64575131],\n",
       "       [4.35889894, 2.44948974],\n",
       "       [4.47213595, 2.23606798],\n",
       "       [4.58257569, 2.        ],\n",
       "       [4.69041576, 1.73205081],\n",
       "       [4.79583152, 1.41421356],\n",
       "       [4.89897949, 1.        ]])"
      ]
     },
     "execution_count": 76,
     "metadata": {},
     "output_type": "execute_result"
    }
   ],
   "source": [
    "data"
   ]
  },
  {
   "cell_type": "code",
   "execution_count": 94,
   "metadata": {},
   "outputs": [],
   "source": [
    "for i in range(5):\n",
    "    for x in sum_to_n(signalSum[i], 2):\n",
    "        result.append(x)\n",
    "        break"
   ]
  },
  {
   "cell_type": "code",
   "execution_count": 95,
   "metadata": {},
   "outputs": [
    {
     "data": {
      "text/plain": [
       "[array([3.60555128, 3.46410162]),\n",
       " array([7.07106781, 7.07106781]),\n",
       " array([4.12310563, 4.12310563]),\n",
       " array([21.21320344, 21.21320344]),\n",
       " array([13.41640786, 13.41640786])]"
      ]
     },
     "execution_count": 95,
     "metadata": {},
     "output_type": "execute_result"
    }
   ],
   "source": [
    "result"
   ]
  },
  {
   "cell_type": "code",
   "execution_count": 88,
   "metadata": {},
   "outputs": [
    {
     "data": {
      "text/plain": [
       "25.0"
      ]
     },
     "execution_count": 88,
     "metadata": {},
     "output_type": "execute_result"
    }
   ],
   "source": [
    "signalSum"
   ]
  },
  {
   "cell_type": "code",
   "execution_count": 89,
   "metadata": {},
   "outputs": [],
   "source": [
    "signalSum = [25,100, 34, 900, 360, 67,90]"
   ]
  },
  {
   "cell_type": "code",
   "execution_count": 93,
   "metadata": {},
   "outputs": [],
   "source": [
    "result.clear()"
   ]
  },
  {
   "cell_type": "code",
   "execution_count": null,
   "metadata": {},
   "outputs": [],
   "source": []
  }
 ],
 "metadata": {
  "kernelspec": {
   "display_name": "Python 3",
   "language": "python",
   "name": "python3"
  },
  "language_info": {
   "codemirror_mode": {
    "name": "ipython",
    "version": 3
   },
   "file_extension": ".py",
   "mimetype": "text/x-python",
   "name": "python",
   "nbconvert_exporter": "python",
   "pygments_lexer": "ipython3",
   "version": "3.7.2"
  }
 },
 "nbformat": 4,
 "nbformat_minor": 2
}
