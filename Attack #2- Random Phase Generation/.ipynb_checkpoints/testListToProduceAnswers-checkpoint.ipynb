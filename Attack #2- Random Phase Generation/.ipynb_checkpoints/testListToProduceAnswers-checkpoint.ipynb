{
 "cells": [
  {
   "cell_type": "code",
   "execution_count": 1,
   "metadata": {},
   "outputs": [],
   "source": [
    "import speech_recognition as sr\n",
    "from os import path\n",
    "import os.path\n",
    "import operator\n",
    "from os import system\n",
    "from os import listdir\n",
    "from os.path import isfile, join\n",
    "import wave\n",
    "import scipy as sc\n",
    "import librosa\n",
    "import IPython.display as ipd\n",
    "import numpy as np\n",
    "from PIL import Image\n",
    "import matplotlib.pyplot as plt\n",
    "import matplotlib\n",
    "import numpy as np\n",
    "%matplotlib inline\n",
    "import math\n",
    "import librosa as lb\n",
    "import scipy\n",
    "from sklearn.decomposition import PCA\n",
    "import pandas as pd\n",
    "from os import listdir\n",
    "from os.path import isfile, join\n",
    "import time\n",
    "from itertools import product\n",
    "import datetime\n",
    "import sys"
   ]
  },
  {
   "cell_type": "code",
   "execution_count": 2,
   "metadata": {},
   "outputs": [
    {
     "name": "stdout",
     "output_type": "stream",
     "text": [
      "216960\n"
     ]
    }
   ],
   "source": [
    "fs, data = scipy.io.wavfile.read(r\"C:\\Users\\hamza\\OneDrive\\Desktop\\ResearchML\\AudioFiles\\helloAudio.wav\")\n",
    "print(len(data))"
   ]
  },
  {
   "cell_type": "code",
   "execution_count": 9,
   "metadata": {},
   "outputs": [
    {
     "name": "stdout",
     "output_type": "stream",
     "text": [
      "[(3+4j)]\n"
     ]
    }
   ],
   "source": [
    "h = [3+4j]\n",
    "print(h)"
   ]
  },
  {
   "cell_type": "code",
   "execution_count": 10,
   "metadata": {},
   "outputs": [],
   "source": [
    "#Squares both the phase signals and adds them together\n",
    "def getMagnitude(a):\n",
    "    x = np.abs(a)\n",
    "    return x"
   ]
  },
  {
   "cell_type": "code",
   "execution_count": 18,
   "metadata": {},
   "outputs": [
    {
     "name": "stdout",
     "output_type": "stream",
     "text": [
      "This is the magnitude of the signal:  [5.]\n"
     ]
    }
   ],
   "source": [
    "print(\"This is the magnitude of the signal: \",getMagnitude(h))\n",
    "\n",
    "magnitudeNum = getMagnitude(h)\n"
   ]
  },
  {
   "cell_type": "code",
   "execution_count": 20,
   "metadata": {},
   "outputs": [],
   "source": [
    "def sum_to_n(n, size, limit=None):\n",
    "    \"\"\"Produce all lists of `size` positive integers in decreasing order\n",
    "    that add up to `n`.\"\"\"\n",
    "    if size == 1:\n",
    "        yield [n]\n",
    "        #list.append([n])\n",
    "        return\n",
    "    if limit is None:\n",
    "        limit = n\n",
    "    start = (n + size - 1) // size\n",
    "    stop = min(limit, n - size + 1) + 1\n",
    "    for i in np.arange(start, stop):\n",
    "        for tail in sum_to_n(n - i, size - 1, i):\n",
    "            yield ([i] + tail)\n",
    "            #list.append(np.sqrt([i] + tail))"
   ]
  },
  {
   "cell_type": "code",
   "execution_count": 21,
   "metadata": {},
   "outputs": [],
   "source": [
    "#Create a new empty list to store the answers\n",
    "listAns = []\n",
    "result = []"
   ]
  },
  {
   "cell_type": "code",
   "execution_count": 22,
   "metadata": {},
   "outputs": [],
   "source": [
    "for x in sum_to_n(magnitudeNum, 2):\n",
    "    #add the result to a list\n",
    "    result.append(x)\n",
    "    #print(x)\n",
    "    "
   ]
  },
  {
   "cell_type": "raw",
   "metadata": {},
   "source": []
  }
 ],
 "metadata": {
  "kernelspec": {
   "display_name": "Python 3",
   "language": "python",
   "name": "python3"
  },
  "language_info": {
   "codemirror_mode": {
    "name": "ipython",
    "version": 3
   },
   "file_extension": ".py",
   "mimetype": "text/x-python",
   "name": "python",
   "nbconvert_exporter": "python",
   "pygments_lexer": "ipython3",
   "version": "3.7.2"
  }
 },
 "nbformat": 4,
 "nbformat_minor": 2
}
