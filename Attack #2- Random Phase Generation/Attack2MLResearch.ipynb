{
 "cells": [
  {
   "cell_type": "code",
   "execution_count": 4,
   "metadata": {},
   "outputs": [],
   "source": [
    "    import speech_recognition as sr\n",
    "    from os import path\n",
    "    import os.path\n",
    "    import operator\n",
    "    from os import system\n",
    "    from os import listdir\n",
    "    from os.path import isfile, join\n",
    "    import wave\n",
    "    import scipy as sc\n",
    "    import librosa\n",
    "    import IPython.display as ipd\n",
    "    import numpy as np\n",
    "    from PIL import Image\n",
    "    import matplotlib.pyplot as plt\n",
    "    import matplotlib\n",
    "    import numpy as np\n",
    "    %matplotlib inline\n",
    "    import math\n",
    "    import librosa as lb\n",
    "    import scipy\n",
    "    from sklearn.decomposition import PCA\n",
    "    import pandas as pd\n",
    "    from os import listdir\n",
    "    from os.path import isfile, join\n",
    "    import time\n",
    "    from itertools import product\n",
    "    import datetime\n",
    "    import sys"
   ]
  },
  {
   "cell_type": "code",
   "execution_count": 18,
   "metadata": {},
   "outputs": [
    {
     "name": "stdout",
     "output_type": "stream",
     "text": [
      "216960\n"
     ]
    }
   ],
   "source": [
    "fs, data = scipy.io.wavfile.read(r\"C:\\Users\\hamza\\OneDrive\\Desktop\\ResearchML\\AudioFiles\\helloAudio.wav\")\n",
    "print(len(data))"
   ]
  },
  {
   "cell_type": "code",
   "execution_count": 19,
   "metadata": {},
   "outputs": [
    {
     "name": "stdout",
     "output_type": "stream",
     "text": [
      "[3, 4]\n"
     ]
    }
   ],
   "source": [
    "h = [3, 4]\n",
    "print(h)"
   ]
  },
  {
   "cell_type": "code",
   "execution_count": 20,
   "metadata": {},
   "outputs": [],
   "source": [
    "#Squares both the phase signals and adds them together\n",
    "def getSignalSum(a, b):\n",
    "    x = (a**2) + (b**2)\n",
    "    return x"
   ]
  },
  {
   "cell_type": "code",
   "execution_count": 21,
   "metadata": {},
   "outputs": [],
   "source": [
    "#Obtains the magnitude of the signalSums\n",
    "def getMagnitude(x):\n",
    "    ans = math.sqrt(x)\n",
    "    return ans"
   ]
  },
  {
   "cell_type": "code",
   "execution_count": 93,
   "metadata": {},
   "outputs": [
    {
     "name": "stdout",
     "output_type": "stream",
     "text": [
      "This is the signal sum:  25\n",
      "25.0\n",
      "This is the magnitude of the signal:  5.0\n"
     ]
    }
   ],
   "source": [
    "print(\"This is the signal sum: \",getSignalSum(3,4))\n",
    "signalSum = getSignalSum(3,4)\n",
    "print(np.power(np.abs(3+4j), 2))\n",
    "print(\"This is the magnitude of the signal: \",getMagnitude(signalSum))\n",
    "magnitude = getMagnitude(signalSum)"
   ]
  },
  {
   "cell_type": "code",
   "execution_count": null,
   "metadata": {},
   "outputs": [],
   "source": []
  },
  {
   "cell_type": "code",
   "execution_count": 94,
   "metadata": {},
   "outputs": [],
   "source": [
    "#Sets the upper bound on possible value that a signal can be\n",
    "def signalBound(y):\n",
    "    maxNum = np.sqrt(y)\n",
    "    return maxNum\n",
    "    "
   ]
  },
  {
   "cell_type": "code",
   "execution_count": 95,
   "metadata": {},
   "outputs": [
    {
     "name": "stdout",
     "output_type": "stream",
     "text": [
      "This is the highest value that a new\n",
      "signal number can be to have the same magnitude:\n",
      " 5.0\n"
     ]
    }
   ],
   "source": [
    "maxNum = signalBound(signalSum)\n",
    "print(\"This is the highest value that a new\\nsignal number can be to have the same magnitude:\\n\",maxNum)"
   ]
  },
  {
   "cell_type": "code",
   "execution_count": 96,
   "metadata": {},
   "outputs": [],
   "source": [
    "def sum_to_n(n, size, limit=None):\n",
    "    \"\"\"Produce all lists of `size` positive integers in decreasing order\n",
    "    that add up to `n`.\"\"\"\n",
    "    if size == 1:\n",
    "        yield [n]\n",
    "        #list.append([n])\n",
    "        return\n",
    "    if limit is None:\n",
    "        limit = n\n",
    "    start = (n + size - 1) // size\n",
    "    stop = min(limit, n - size + 1) + 1\n",
    "    for i in np.arange(start, stop):\n",
    "        for tail in sum_to_n(n - i, size - 1, i):\n",
    "            yield np.sqrt([i] + tail)\n",
    "            #list.append(np.sqrt([i] + tail))"
   ]
  },
  {
   "cell_type": "code",
   "execution_count": 113,
   "metadata": {},
   "outputs": [],
   "source": [
    "#Create a new empty list to store the answers\n",
    "listAns = []\n",
    "result = []"
   ]
  },
  {
   "cell_type": "code",
   "execution_count": 114,
   "metadata": {},
   "outputs": [],
   "source": [
    "for x in sum_to_n(np.power(np.abs(-2.42218600e+06+1.22079065e-12j)*.0001, 2), 2):\n",
    "    #add the result to a list\n",
    "    result.append(x)\n",
    "    #print(x)\n",
    "    break"
   ]
  },
  {
   "cell_type": "code",
   "execution_count": 115,
   "metadata": {},
   "outputs": [
    {
     "name": "stdout",
     "output_type": "stream",
     "text": [
      "[array([171.27463326, 171.27419591])]\n",
      "<class 'list'>\n"
     ]
    }
   ],
   "source": [
    "print(result)\n",
    "print(type(result))"
   ]
  },
  {
   "cell_type": "code",
   "execution_count": 107,
   "metadata": {},
   "outputs": [
    {
     "name": "stdout",
     "output_type": "stream",
     "text": [
      "[[3.60555128 3.46410162]\n",
      " [3.74165739 3.31662479]\n",
      " [3.87298335 3.16227766]\n",
      " [4.         3.        ]\n",
      " [4.12310563 2.82842712]\n",
      " [4.24264069 2.64575131]\n",
      " [4.35889894 2.44948974]\n",
      " [4.47213595 2.23606798]\n",
      " [4.58257569 2.        ]\n",
      " [4.69041576 1.73205081]\n",
      " [4.79583152 1.41421356]\n",
      " [4.89897949 1.        ]\n",
      " [3.60555128 3.46410162]\n",
      " [3.74165739 3.31662479]\n",
      " [3.87298335 3.16227766]\n",
      " [4.         3.        ]\n",
      " [4.12310563 2.82842712]\n",
      " [4.24264069 2.64575131]\n",
      " [4.35889894 2.44948974]\n",
      " [4.47213595 2.23606798]\n",
      " [4.58257569 2.        ]\n",
      " [4.69041576 1.73205081]\n",
      " [4.79583152 1.41421356]\n",
      " [4.89897949 1.        ]]\n"
     ]
    }
   ],
   "source": [
    "data = np.asarray(result)\n",
    "print(data)\n"
   ]
  },
  {
   "cell_type": "code",
   "execution_count": null,
   "metadata": {},
   "outputs": [],
   "source": []
  },
  {
   "cell_type": "code",
   "execution_count": 79,
   "metadata": {},
   "outputs": [],
   "source": [
    "################   TEST CODE      ###############33"
   ]
  },
  {
   "cell_type": "code",
   "execution_count": null,
   "metadata": {},
   "outputs": [],
   "source": [
    "\n"
   ]
  },
  {
   "cell_type": "code",
   "execution_count": null,
   "metadata": {},
   "outputs": [],
   "source": []
  },
  {
   "cell_type": "code",
   "execution_count": null,
   "metadata": {},
   "outputs": [],
   "source": []
  },
  {
   "cell_type": "code",
   "execution_count": null,
   "metadata": {},
   "outputs": [],
   "source": []
  },
  {
   "cell_type": "code",
   "execution_count": null,
   "metadata": {},
   "outputs": [],
   "source": []
  },
  {
   "cell_type": "code",
   "execution_count": null,
   "metadata": {},
   "outputs": [],
   "source": []
  }
 ],
 "metadata": {
  "kernelspec": {
   "display_name": "Python 3",
   "language": "python",
   "name": "python3"
  },
  "language_info": {
   "codemirror_mode": {
    "name": "ipython",
    "version": 3
   },
   "file_extension": ".py",
   "mimetype": "text/x-python",
   "name": "python",
   "nbconvert_exporter": "python",
   "pygments_lexer": "ipython3",
   "version": "3.7.2"
  }
 },
 "nbformat": 4,
 "nbformat_minor": 2
}
