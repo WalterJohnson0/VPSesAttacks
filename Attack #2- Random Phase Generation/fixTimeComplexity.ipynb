{
 "cells": [
  {
   "cell_type": "code",
   "execution_count": 1,
   "metadata": {},
   "outputs": [],
   "source": [
    "import speech_recognition as sr\n",
    "from os import path\n",
    "import os.path\n",
    "import operator\n",
    "from os import system\n",
    "from os import listdir\n",
    "from os.path import isfile, join\n",
    "import wave\n",
    "import scipy as sc\n",
    "import librosa\n",
    "import IPython.display as ipd\n",
    "import numpy as np\n",
    "from PIL import Image\n",
    "import matplotlib.pyplot as plt\n",
    "import matplotlib\n",
    "import numpy as np\n",
    "%matplotlib inline\n",
    "import math\n",
    "import librosa as lb\n",
    "import scipy\n",
    "from sklearn.decomposition import PCA\n",
    "import pandas as pd\n",
    "from os import listdir\n",
    "from os.path import isfile, join\n",
    "import time\n",
    "from itertools import product\n",
    "import datetime\n",
    "import sys"
   ]
  },
  {
   "cell_type": "code",
   "execution_count": 3,
   "metadata": {},
   "outputs": [],
   "source": [
    "#Read in the amplitude of the audio file\n",
    "fs, data = scipy.io.wavfile.read(r\"C:\\Users\\hamza\\OneDrive\\Desktop\\ResearchML\\AudioFiles\\helloAudio.wav\")\n",
    "length = len(data)\n",
    "#print(\"This is the data printed\\n\", data[-100:])"
   ]
  },
  {
   "cell_type": "code",
   "execution_count": 4,
   "metadata": {},
   "outputs": [],
   "source": [
    "a = data\n",
    "\n",
    "#Take the FFT of the time domain frequency \n",
    "b = sc.fft(a)\n",
    "\n",
    "#Gets half of the spectrum, using ceil to obtain the middle value in case of an odd length\n",
    "#Only need half of it because real and imaginary data are symmertrial and data duplicates after half way\n",
    "c= b[0:int(np.ceil((length+1)/2.0))]\n",
    "\n",
    "#Store new length of the array\n",
    "lenFreq = len(c)\n",
    "\n",
    "#Take the magnitude of the FFT for original audio\n",
    "magFreq = np.absolute(c)"
   ]
  },
  {
   "cell_type": "code",
   "execution_count": 5,
   "metadata": {},
   "outputs": [],
   "source": [
    "\"\"\"Produce all lists of `size` positive integers in decreasing order\n",
    "    that add up to `n`.\"\"\"\n",
    "def sum_to_n(n, size, limit=None):\n",
    "    if size == 1:\n",
    "        yield [n]\n",
    "        #list.append([n])\n",
    "        return\n",
    "    if limit is None:\n",
    "        limit = n\n",
    "    start = (n + size - 1) // size\n",
    "    stop = min(limit, n - size + 1) + 1\n",
    "    for i in np.arange(start, stop):\n",
    "        for tail in sum_to_n(n - i, size - 1, i):\n",
    "            yield (np.sqrt([i] + tail))\n",
    "            #list.append(np.sqrt([i] + tail))"
   ]
  },
  {
   "cell_type": "code",
   "execution_count": 6,
   "metadata": {},
   "outputs": [],
   "source": [
    "#Stores the original real and imaginary numbers in a list\n",
    "realNumbers = []\n",
    "imaginaryNumbers = []\n",
    "\n",
    "#Stores the magnitudes for the pertubated audio clip\n",
    "magFreq2 = []\n",
    "\n",
    "#Stores the modified real and imaginary numbers in a list\n",
    "realFinal = []\n",
    "imagFinal = []\n",
    "\n",
    "#Stores the results in the following lists \n",
    "resultsTemp = []\n",
    "finalResults = []\n"
   ]
  },
  {
   "cell_type": "code",
   "execution_count": null,
   "metadata": {},
   "outputs": [],
   "source": []
  }
 ],
 "metadata": {
  "kernelspec": {
   "display_name": "Python 3",
   "language": "python",
   "name": "python3"
  },
  "language_info": {
   "codemirror_mode": {
    "name": "ipython",
    "version": 3
   },
   "file_extension": ".py",
   "mimetype": "text/x-python",
   "name": "python",
   "nbconvert_exporter": "python",
   "pygments_lexer": "ipython3",
   "version": "3.7.2"
  }
 },
 "nbformat": 4,
 "nbformat_minor": 2
}
